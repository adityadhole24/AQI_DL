{
  "nbformat": 4,
  "nbformat_minor": 0,
  "metadata": {
    "colab": {
      "name": "ensemble_china.ipynb",
      "provenance": [],
      "collapsed_sections": []
    },
    "kernelspec": {
      "name": "python3",
      "display_name": "Python 3"
    }
  },
  "cells": [
    {
      "cell_type": "code",
      "metadata": {
        "id": "GN34usncK0x_",
        "colab_type": "code",
        "colab": {}
      },
      "source": [
        ""
      ],
      "execution_count": 0,
      "outputs": []
    },
    {
      "cell_type": "code",
      "metadata": {
        "id": "MjKBFV6TJIle",
        "colab_type": "code",
        "colab": {}
      },
      "source": [
        "from singlestep import *\n",
        "\n",
        "from math import sqrt,exp\n",
        "import pandas as pd\n",
        "import numpy as np\n",
        "import pickle\n",
        "import os\n",
        "from sklearn.metrics import mean_squared_error\n",
        "from keras.layers import Dense,LSTM,Bidirectional,BatchNormalization,Dropout,Conv1D,GRU,MaxPooling1D\n",
        "from keras.models import Sequential,Model\n",
        "from keras.layers.merge import concatenate\n",
        "from keras.callbacks import History, ModelCheckpoint\n",
        "from keras import optimizers\n",
        "from keras.engine.input_layer import Input\n",
        "from matplotlib import pyplot\n",
        "from sklearn.preprocessing import MinMaxScaler"
      ],
      "execution_count": 0,
      "outputs": []
    },
    {
      "cell_type": "code",
      "metadata": {
        "id": "e6UhJeZfX3Kg",
        "colab_type": "code",
        "colab": {}
      },
      "source": [
        "def naya_split(data):  #CORRECT\n",
        "    train,test=data[24*365*1+24*30*6:24*365*1+24*30*6+24*48],data[24*365*1+24*30*6+24*48:24*365*1+24*30*6+24*60]\n",
        "    train=np.split(train,len(train)/24)\n",
        "    test=np.split(test,len(test)/24)\n",
        "    return np.array(train),np.array(test)"
      ],
      "execution_count": 0,
      "outputs": []
    },
    {
      "cell_type": "code",
      "metadata": {
        "id": "yBbOn9njBrVV",
        "colab_type": "code",
        "colab": {}
      },
      "source": [
        "def findrmse(pred_val,true_val):\n",
        "  score=0\n",
        "  score=sqrt(mean_squared_error(true_val,pred_val))\n",
        "  return score"
      ],
      "execution_count": 0,
      "outputs": []
    },
    {
      "cell_type": "code",
      "metadata": {
        "id": "H6F0DG_A84lb",
        "colab_type": "code",
        "colab": {}
      },
      "source": [
        "def naveenforecast(hist,model,n_input):\n",
        "  data=np.array(hist)\n",
        "  ip=data[-n_input:,0:]\n",
        "  ip1=ip[:,0].reshape(1,n_input,1)\n",
        "  ip2=ip[:,1].reshape(1,n_input,1)\n",
        "  ip3=ip[:,2].reshape(1,n_input,1)\n",
        "  ip4=ip[:,3].reshape(1,n_input,1)\n",
        "  ip5=ip[:,4].reshape(1,n_input,1)\n",
        "  ip6=ip[:,5].reshape(1,n_input,1)\n",
        "  ip7=ip[:,6].reshape(1,n_input,1)\n",
        "  ip8=ip[:,7].reshape(1,n_input,1)\n",
        "  ip9=ip[:,8].reshape(1,n_input,1)\n",
        "  ip10=ip[:,9].reshape(1,n_input,1)\n",
        "  ip11=ip[:,10].reshape(1,n_input,1)\n",
        "  ip12=ip[:,11].reshape(1,n_input,1)\n",
        "  ip13=ip[:,12].reshape(1,n_input,1)\n",
        "  ip14=ip[:,13].reshape(1,n_input,1)\n",
        "  ip15=ip[:,14].reshape(1,n_input,1)\n",
        "  y_pred=model.predict([ip1,ip2,ip3,ip4,ip5,ip6,ip7,ip8,ip9,ip10,ip11,ip12,ip13,ip14,ip15])\n",
        "  return y_pred[0]"
      ],
      "execution_count": 0,
      "outputs": []
    },
    {
      "cell_type": "code",
      "metadata": {
        "id": "tr9yYuFm4Z2F",
        "colab_type": "code",
        "colab": {}
      },
      "source": [
        "def testmod(hist,test,n_input,model):\n",
        "  new_test=test.reshape((test.shape[0]*test.shape[1],test.shape[2]))\n",
        "  \n",
        "  predictions=[]\n",
        "\n",
        "  for i in range(len(new_test)):\n",
        "    predictions.append(naveenforecast(hist,model,n_input))\n",
        "    hist.append(new_test[i])\n",
        "\n",
        "  return(predictions)"
      ],
      "execution_count": 0,
      "outputs": []
    },
    {
      "cell_type": "code",
      "metadata": {
        "id": "Fj8Mr12Q4aGv",
        "colab_type": "code",
        "colab": {}
      },
      "source": [
        ""
      ],
      "execution_count": 0,
      "outputs": []
    },
    {
      "cell_type": "code",
      "metadata": {
        "id": "H8DjPi43X3Gy",
        "colab_type": "code",
        "outputId": "c994d52e-c507-4311-ab44-b96ad6016b00",
        "colab": {
          "base_uri": "https://localhost:8080/",
          "height": 85
        }
      },
      "source": [
        "data=pd.read_csv('/content/Changpingpreproc.csv',header=0,parse_dates=True,index_col=['No'])\n",
        "min=data['PM2.5'].min()\n",
        "max=data['PM2.5'].max()\n",
        "\n",
        "scalar=MinMaxScaler(feature_range=(0,1))\n",
        "data=scalar.fit_transform(data)\n",
        "\n",
        "n_input=4\n",
        "train,test=naya_split(data)\n",
        "\n",
        "print(train.shape)\n",
        "print(test.shape)\n",
        "\n",
        "train_x,train_y=to_supervised(train,n_input,1)\n",
        "print(train_x.shape)\n",
        "print(train_y.shape)"
      ],
      "execution_count": 0,
      "outputs": [
        {
          "output_type": "stream",
          "text": [
            "(48, 24, 15)\n",
            "(12, 24, 15)\n",
            "(1148, 4, 15)\n",
            "(1148, 1)\n"
          ],
          "name": "stdout"
        }
      ]
    },
    {
      "cell_type": "code",
      "metadata": {
        "id": "yAY6LBnzX3DH",
        "colab_type": "code",
        "outputId": "a63461c7-049e-46fd-fead-52fdd4f3516e",
        "colab": {
          "base_uri": "https://localhost:8080/",
          "height": 51
        }
      },
      "source": [
        "weightage=[]\n",
        "for i in range(10):\n",
        "  weightage.append(1/10)\n",
        "\n",
        "print(weightage)\n",
        "print(weightage[0])\n",
        "#initializing weightage value"
      ],
      "execution_count": 0,
      "outputs": [
        {
          "output_type": "stream",
          "text": [
            "[0.1, 0.1, 0.1, 0.1, 0.1, 0.1, 0.1, 0.1, 0.1, 0.1]\n",
            "0.1\n"
          ],
          "name": "stdout"
        }
      ]
    },
    {
      "cell_type": "code",
      "metadata": {
        "id": "5xRveP3_X26J",
        "colab_type": "code",
        "outputId": "12480c73-8cc5-4af2-f5d3-1adf9d2cbc6c",
        "colab": {
          "base_uri": "https://localhost:8080/",
          "height": 1000
        }
      },
      "source": [
        "#loading model associated with each of the city\n",
        "\n",
        "models=[]\n",
        "\n",
        "models.insert(0,pickle.load(open('/content/ftAotizhongxin.sav','rb')))\n",
        "models.insert(1,pickle.load(open('/content/ftDongsi.sav','rb')))\n",
        "models.insert(2,pickle.load(open('/content/ftGuanyuan.sav','rb')))\n",
        "models.insert(3,pickle.load(open('/content/ftGucheng.sav','rb')))\n",
        "models.insert(4,pickle.load(open('/content/ftHuairou.sav','rb')))\n",
        "models.insert(5,pickle.load(open('/content/ftNongzhanguan.sav','rb')))\n",
        "models.insert(6,pickle.load(open('/content/ftShunyi.sav','rb')))\n",
        "models.insert(7,pickle.load(open('/content/ftTiantan.sav','rb')))\n",
        "models.insert(8,pickle.load(open('/content/ftWanliu.sav','rb')))\n",
        "models.insert(9,pickle.load(open('/content/ftWanshouxigong.sav','rb')))\n",
        "\n",
        "\n",
        "\n",
        "print(models[0].summary())\n",
        "print(len(models))"
      ],
      "execution_count": 0,
      "outputs": [
        {
          "output_type": "stream",
          "text": [
            "Model: \"model_1\"\n",
            "__________________________________________________________________________________________________\n",
            "Layer (type)                    Output Shape         Param #     Connected to                     \n",
            "==================================================================================================\n",
            "input_1 (InputLayer)            (None, 4, 1)         0                                            \n",
            "__________________________________________________________________________________________________\n",
            "input_2 (InputLayer)            (None, 4, 1)         0                                            \n",
            "__________________________________________________________________________________________________\n",
            "input_3 (InputLayer)            (None, 4, 1)         0                                            \n",
            "__________________________________________________________________________________________________\n",
            "input_4 (InputLayer)            (None, 4, 1)         0                                            \n",
            "__________________________________________________________________________________________________\n",
            "input_5 (InputLayer)            (None, 4, 1)         0                                            \n",
            "__________________________________________________________________________________________________\n",
            "input_6 (InputLayer)            (None, 4, 1)         0                                            \n",
            "__________________________________________________________________________________________________\n",
            "input_7 (InputLayer)            (None, 4, 1)         0                                            \n",
            "__________________________________________________________________________________________________\n",
            "input_8 (InputLayer)            (None, 4, 1)         0                                            \n",
            "__________________________________________________________________________________________________\n",
            "input_9 (InputLayer)            (None, 4, 1)         0                                            \n",
            "__________________________________________________________________________________________________\n",
            "input_10 (InputLayer)           (None, 4, 1)         0                                            \n",
            "__________________________________________________________________________________________________\n",
            "input_11 (InputLayer)           (None, 4, 1)         0                                            \n",
            "__________________________________________________________________________________________________\n",
            "input_12 (InputLayer)           (None, 4, 1)         0                                            \n",
            "__________________________________________________________________________________________________\n",
            "input_13 (InputLayer)           (None, 4, 1)         0                                            \n",
            "__________________________________________________________________________________________________\n",
            "input_14 (InputLayer)           (None, 4, 1)         0                                            \n",
            "__________________________________________________________________________________________________\n",
            "input_15 (InputLayer)           (None, 4, 1)         0                                            \n",
            "__________________________________________________________________________________________________\n",
            "conv1d_1 (Conv1D)               (None, 3, 64)        192         input_1[0][0]                    \n",
            "__________________________________________________________________________________________________\n",
            "conv1d_2 (Conv1D)               (None, 3, 64)        192         input_2[0][0]                    \n",
            "__________________________________________________________________________________________________\n",
            "conv1d_3 (Conv1D)               (None, 3, 64)        192         input_3[0][0]                    \n",
            "__________________________________________________________________________________________________\n",
            "conv1d_4 (Conv1D)               (None, 3, 64)        192         input_4[0][0]                    \n",
            "__________________________________________________________________________________________________\n",
            "conv1d_5 (Conv1D)               (None, 3, 64)        192         input_5[0][0]                    \n",
            "__________________________________________________________________________________________________\n",
            "conv1d_6 (Conv1D)               (None, 3, 64)        192         input_6[0][0]                    \n",
            "__________________________________________________________________________________________________\n",
            "conv1d_7 (Conv1D)               (None, 3, 64)        192         input_7[0][0]                    \n",
            "__________________________________________________________________________________________________\n",
            "conv1d_8 (Conv1D)               (None, 3, 64)        192         input_8[0][0]                    \n",
            "__________________________________________________________________________________________________\n",
            "conv1d_9 (Conv1D)               (None, 3, 64)        192         input_9[0][0]                    \n",
            "__________________________________________________________________________________________________\n",
            "conv1d_10 (Conv1D)              (None, 3, 64)        192         input_10[0][0]                   \n",
            "__________________________________________________________________________________________________\n",
            "conv1d_11 (Conv1D)              (None, 3, 64)        192         input_11[0][0]                   \n",
            "__________________________________________________________________________________________________\n",
            "conv1d_12 (Conv1D)              (None, 3, 64)        192         input_12[0][0]                   \n",
            "__________________________________________________________________________________________________\n",
            "conv1d_13 (Conv1D)              (None, 3, 64)        192         input_13[0][0]                   \n",
            "__________________________________________________________________________________________________\n",
            "conv1d_14 (Conv1D)              (None, 3, 64)        192         input_14[0][0]                   \n",
            "__________________________________________________________________________________________________\n",
            "conv1d_15 (Conv1D)              (None, 3, 64)        192         input_15[0][0]                   \n",
            "__________________________________________________________________________________________________\n",
            "concatenate_1 (Concatenate)     (None, 3, 960)       0           conv1d_1[0][0]                   \n",
            "                                                                 conv1d_2[0][0]                   \n",
            "                                                                 conv1d_3[0][0]                   \n",
            "                                                                 conv1d_4[0][0]                   \n",
            "                                                                 conv1d_5[0][0]                   \n",
            "                                                                 conv1d_6[0][0]                   \n",
            "                                                                 conv1d_7[0][0]                   \n",
            "                                                                 conv1d_8[0][0]                   \n",
            "                                                                 conv1d_9[0][0]                   \n",
            "                                                                 conv1d_10[0][0]                  \n",
            "                                                                 conv1d_11[0][0]                  \n",
            "                                                                 conv1d_12[0][0]                  \n",
            "                                                                 conv1d_13[0][0]                  \n",
            "                                                                 conv1d_14[0][0]                  \n",
            "                                                                 conv1d_15[0][0]                  \n",
            "__________________________________________________________________________________________________\n",
            "gru_1 (GRU)                     (None, 3, 50)        151650      concatenate_1[0][0]              \n",
            "__________________________________________________________________________________________________\n",
            "gru_2 (GRU)                     (None, 3, 50)        15150       gru_1[0][0]                      \n",
            "__________________________________________________________________________________________________\n",
            "gru_3 (GRU)                     (None, 3, 50)        15150       gru_2[0][0]                      \n",
            "__________________________________________________________________________________________________\n",
            "gru_4 (GRU)                     (None, 50)           15150       gru_3[0][0]                      \n",
            "__________________________________________________________________________________________________\n",
            "dense_1 (Dense)                 (None, 25)           1275        gru_4[0][0]                      \n",
            "__________________________________________________________________________________________________\n",
            "dense_2 (Dense)                 (None, 1)            26          dense_1[0][0]                    \n",
            "==================================================================================================\n",
            "Total params: 201,281\n",
            "Trainable params: 4,181\n",
            "Non-trainable params: 197,100\n",
            "__________________________________________________________________________________________________\n",
            "None\n",
            "10\n"
          ],
          "name": "stdout"
        }
      ]
    },
    {
      "cell_type": "code",
      "metadata": {
        "id": "ZR8XiTc1htdy",
        "colab_type": "code",
        "outputId": "821a6475-e6a6-45e3-9e37-cb397a4173fa",
        "colab": {
          "base_uri": "https://localhost:8080/",
          "height": 54
        }
      },
      "source": [
        "#For each training sample, we are making a prediction using\n",
        "#every model and then we are taking squared-error using the real and predicted values\n",
        "#using the same loss, weightage value associated with each model is updated\n",
        "\n",
        "for i in range(len(train_x)):\n",
        "\n",
        "  ip=train_x[i]\n",
        "  ip1=ip[:,0].reshape(1,n_input,1)\n",
        "  ip2=ip[:,1].reshape(1,n_input,1)\n",
        "  ip3=ip[:,2].reshape(1,n_input,1)\n",
        "  ip4=ip[:,3].reshape(1,n_input,1)\n",
        "  ip5=ip[:,4].reshape(1,n_input,1)\n",
        "  ip6=ip[:,5].reshape(1,n_input,1)\n",
        "  ip7=ip[:,6].reshape(1,n_input,1)\n",
        "  ip8=ip[:,7].reshape(1,n_input,1)\n",
        "  ip9=ip[:,8].reshape(1,n_input,1)\n",
        "  ip10=ip[:,9].reshape(1,n_input,1)\n",
        "  ip11=ip[:,10].reshape(1,n_input,1)\n",
        "  ip12=ip[:,11].reshape(1,n_input,1)\n",
        "  ip13=ip[:,12].reshape(1,n_input,1)\n",
        "  ip14=ip[:,13].reshape(1,n_input,1)\n",
        "  ip15=ip[:,14].reshape(1,n_input,1)\n",
        "\n",
        "  predicted=[]\n",
        "  for j in range(10):\n",
        "    p=models[j].predict([ip1,ip2,ip3,ip4,ip5,ip6,ip7,ip8,ip9,ip10,ip11,ip12,ip13,ip14,ip15])\n",
        "    p=p[0][0]\n",
        "    predicted.append(p)\n",
        "\n",
        "  actual=train_y[i][0]\n",
        "  loss=[]\n",
        "  for j in range(10):\n",
        "    loss.append((actual-predicted[j])**2)\n",
        "\n",
        "  n=10\n",
        "  sum=0\n",
        "  for j in range(10):\n",
        "    weightage[j]=weightage[j]*exp(-n*loss[j]) \n",
        "    sum=sum+weightage[j]\n",
        "\n",
        "  for j in range(10):\n",
        "    weightage[j]=weightage[j]/sum\n",
        "\n",
        "\n",
        "print(weightage)   "
      ],
      "execution_count": 0,
      "outputs": [
        {
          "output_type": "stream",
          "text": [
            "[0.13363059614049583, 0.10715660297349082, 0.041070205572694335, 0.08574207800500817, 0.14254978725674125, 0.09572843069665196, 0.0893133455699037, 0.11083609849580645, 0.14003159416727948, 0.05394126112192798]\n"
          ],
          "name": "stdout"
        }
      ]
    },
    {
      "cell_type": "code",
      "metadata": {
        "id": "wtODzRT3htYf",
        "colab_type": "code",
        "colab": {}
      },
      "source": [
        "hist=[]\n",
        "for i in range(n_input):\n",
        "  hist.append(train_x[len(train_x)-1][i])"
      ],
      "execution_count": 0,
      "outputs": []
    },
    {
      "cell_type": "code",
      "metadata": {
        "id": "ojriyK4ShtMf",
        "colab_type": "code",
        "colab": {}
      },
      "source": [
        "# for testing purpose, n predictions are multiplied with their\n",
        "# respective model-weightage value\n",
        "# average of the predicted value is then taken\n",
        "\n",
        "predictions=[]\n",
        "length=0\n",
        "for i in range(10):\n",
        "  pred=testmod(hist,test,n_input,models[i])\n",
        "  length=len(pred)\n",
        "  for j in range(len(pred)):\n",
        "    pred[j]=pred[j]*weightage[i]\n",
        "\n",
        "  predictions.append(pred)\n",
        "\n",
        "final_predictions=[]\n",
        "for i in range(length):\n",
        "  final_predictions.append(0)\n",
        "\n",
        "for i in range(length):\n",
        "  for j in range(10):\n",
        "    final_predictions[i]=final_predictions[i]+predictions[j][i]\n",
        "\n"
      ],
      "execution_count": 0,
      "outputs": []
    },
    {
      "cell_type": "code",
      "metadata": {
        "id": "Oueej-vq4Tjs",
        "colab_type": "code",
        "outputId": "7f2e8b02-f90b-4b13-c5b6-7ebc26aa1010",
        "colab": {
          "base_uri": "https://localhost:8080/",
          "height": 500
        }
      },
      "source": [
        "#modify\n",
        "new_test=test.reshape((test.shape[0]*test.shape[1],test.shape[2]))\n",
        "pyplot.figure(figsize=(15,8)) \n",
        "pyplot.plot(new_test[:,0],linewidth=3)\n",
        "pyplot.plot(final_predictions,linewidth=2,color='red')"
      ],
      "execution_count": 0,
      "outputs": [
        {
          "output_type": "execute_result",
          "data": {
            "text/plain": [
              "[<matplotlib.lines.Line2D at 0x7f397f9a2c18>]"
            ]
          },
          "metadata": {
            "tags": []
          },
          "execution_count": 38
        },
        {
          "output_type": "display_data",
          "data": {
            "image/png": "[encoded data removed]",
            "text/plain": [
              "<Figure size 1080x576 with 1 Axes>"
            ]
          },
          "metadata": {
            "tags": [],
            "needs_background": "light"
          }
        }
      ]
    },
    {
      "cell_type": "code",
      "metadata": {
        "id": "2MOxECKx4Te1",
        "colab_type": "code",
        "outputId": "a9ca734b-94d8-4c3f-d8a3-cdb8ca90d7fe",
        "colab": {
          "base_uri": "https://localhost:8080/",
          "height": 34
        }
      },
      "source": [
        "#modify\n",
        "rmse=findrmse(final_predictions,new_test[:,0])\n",
        "print(rmse*(max-min)+min)"
      ],
      "execution_count": 0,
      "outputs": [
        {
          "output_type": "stream",
          "text": [
            "20.11529242633728\n"
          ],
          "name": "stdout"
        }
      ]
    },
    {
      "cell_type": "code",
      "metadata": {
        "id": "NYyfoQxP4TUg",
        "colab_type": "code",
        "colab": {}
      },
      "source": [
        ""
      ],
      "execution_count": 0,
      "outputs": []
    }
  ]
}